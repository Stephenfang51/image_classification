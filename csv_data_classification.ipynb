{
 "cells": [
  {
   "cell_type": "code",
   "execution_count": 10,
   "metadata": {},
   "outputs": [],
   "source": [
    "import csv\n",
    "import shutil\n",
    "import os\n",
    "\n",
    "target_path = 'path_to_create_classfied dataset'\n",
    "original_path = 'original_dataset_not_been_classified'\n",
    "\n"
   ]
  },
  {
   "cell_type": "code",
   "execution_count": null,
   "metadata": {},
   "outputs": [],
   "source": [
    "with open('path_to_csv_file',\"rt\", encoding=\"utf-8\") as csvfile:\n",
    "    reader = csv.reader(csvfile)\n",
    "    rows= [row for row in reader]\n",
    "    for row in rows:\n",
    "        if os.path.exists(target_path+row[1]) :\n",
    "            full_path = original_path + row[0]\n",
    "            shutil.move(full_path,target_path + row[1] +'/')\n",
    "        else :\n",
    "            os.makedirs(target_path+row[1])\n",
    "            full_path = original_path + row[0]\n",
    "            shutil.move(full_path,target_path + row[1] +'/')"
   ]
  }
 ],
 "metadata": {
  "kernelspec": {
   "display_name": "Python 3",
   "language": "python",
   "name": "python3"
  },
  "language_info": {
   "codemirror_mode": {
    "name": "ipython",
    "version": 3
   },
   "file_extension": ".py",
   "mimetype": "text/x-python",
   "name": "python",
   "nbconvert_exporter": "python",
   "pygments_lexer": "ipython3",
   "version": "3.7.3"
  }
 },
 "nbformat": 4,
 "nbformat_minor": 2
}
